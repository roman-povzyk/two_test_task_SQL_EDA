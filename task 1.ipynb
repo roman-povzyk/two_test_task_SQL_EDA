{
 "cells": [
  {
   "cell_type": "markdown",
   "metadata": {},
   "source": [
    "## 1. Умова задачі"
   ]
  },
  {
   "cell_type": "raw",
   "metadata": {},
   "source": [
    "Two actors who cast together the most\n",
    "\n",
    "Given the the schema presented below find two actors who cast together the most and list titles of only those movies they were casting together. Order the result set alphabetically by the movie title.\n",
    "\n",
    "Table film_actor\n",
    "Column      | Type                        | Modifiers\n",
    "------------+-----------------------------+----------\n",
    "actor_id    | smallint                    | not null\n",
    "film_id     | smallint                    | not null\n",
    "...\n",
    "\n",
    "Table actor\n",
    "Column      | Type                        | Modifiers\n",
    "------------+-----------------------------+----------\n",
    "actor_id    | integer                     | not null \n",
    "first_name  | character varying(45)       | not null\n",
    "last_name   | character varying(45)       | not null\n",
    "...\n",
    "\n",
    "Table film\n",
    "Column      | Type                        | Modifiers\n",
    "------------+-----------------------------+----------\n",
    "film_id     | integer                     | not null\n",
    "title       | character varying(255)      | not null\n",
    "...\n",
    "\n",
    "The desired output:\n",
    "first_actor | second_actor | title\n",
    "------------+--------------+--------------------\n",
    "John Doe    | Jane Doe     | The Best Movie Ever\n",
    "...\n",
    "\n",
    "* first_actor - Full name (First name + Last name separated by a space)\n",
    "* second_actor - Full name (First name + Last name separated by a space)\n",
    "* title - Movie title\n",
    "\n",
    "Note: actor_id of the first_actor should be lower then actor_id of the second_actor"
   ]
  },
  {
   "cell_type": "markdown",
   "metadata": {},
   "source": [
    "## 2. Розв'язання"
   ]
  },
  {
   "cell_type": "raw",
   "metadata": {},
   "source": [
    "with main_actors as \n",
    "(\n",
    "  select fa.actor_id as id1, sa.actor_id as id2\n",
    "  from film_actor fa\n",
    "    inner join film_actor sa on fa.film_id=sa.film_id\n",
    "  where fa.actor_id <> sa.actor_id\n",
    "  group by fa.actor_id, sa.actor_id\n",
    "  order by count(fa.film_id) desc\n",
    "  limit 1\n",
    ")\n",
    "select\n",
    "(\n",
    " select first_name || ' ' || last_name \n",
    " from actor \n",
    " where actor_id = ma.id1\n",
    ") as first_actor,\n",
    "(\n",
    " select first_name || ' ' || last_name \n",
    " from actor \n",
    " where actor_id = ma.id2\n",
    ") as second_actor,\n",
    "  f.title as title\n",
    "from main_actors ma\n",
    "    inner join film_actor fa on ma.id1 = fa.actor_id\n",
    "    inner join film_actor sa on ma.id2 = sa.actor_id\n",
    "    inner join film f on fa.film_id=f.film_id and sa.film_id=f.film_id"
   ]
  },
  {
   "cell_type": "code",
   "execution_count": null,
   "metadata": {},
   "outputs": [],
   "source": []
  }
 ],
 "metadata": {
  "kernelspec": {
   "display_name": "Python 3",
   "language": "python",
   "name": "python3"
  },
  "language_info": {
   "codemirror_mode": {
    "name": "ipython",
    "version": 3
   },
   "file_extension": ".py",
   "mimetype": "text/x-python",
   "name": "python",
   "nbconvert_exporter": "python",
   "pygments_lexer": "ipython3",
   "version": "3.7.6"
  }
 },
 "nbformat": 4,
 "nbformat_minor": 4
}
